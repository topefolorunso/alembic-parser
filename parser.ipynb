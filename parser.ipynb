{
  "nbformat": 4,
  "nbformat_minor": 0,
  "metadata": {
    "colab": {
      "name": "parser.ipynb",
      "provenance": [],
      "authorship_tag": "ABX9TyNhbQTJUh1hGd21NnaMi2LX"
    },
    "kernelspec": {
      "name": "python3",
      "display_name": "Python 3"
    },
    "language_info": {
      "name": "python"
    }
  },
  "cells": [
    {
      "cell_type": "code",
      "execution_count": 2,
      "metadata": {
        "colab": {
          "base_uri": "https://localhost:8080/"
        },
        "id": "qNpzSWQ7n6gH",
        "outputId": "c51b021a-86d5-465f-e9fb-4726d7344eec"
      },
      "outputs": [
        {
          "output_type": "stream",
          "name": "stdout",
          "text": [
            "[]\n"
          ]
        }
      ],
      "source": [
        "from os import walk\n",
        "\n",
        "# folder path\n",
        "dir_path = r\"C:\\Users\\HP\\Desktop\\migration_data_test\"\n",
        "\n",
        "# list to store files name\n",
        "res = []\n",
        "for (dir_path, dir_names, file_names) in walk(dir_path):\n",
        "    res.extend(file_names)\n",
        "print(res)"
      ]
    },
    {
      "cell_type": "code",
      "source": [
        ""
      ],
      "metadata": {
        "id": "1K588wg3xEs4"
      },
      "execution_count": null,
      "outputs": []
    }
  ]
}