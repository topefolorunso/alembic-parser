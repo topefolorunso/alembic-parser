{
  "cells": [
    {
      "cell_type": "code",
      "execution_count": 277,
      "metadata": {
        "id": "1K588wg3xEs4"
      },
      "outputs": [],
      "source": [
        "\n",
        "class FileNode:\n",
        "    def __init__(self, file_path) -> None:\n",
        "        self.file_path = file_path\n",
        "        self.file_name = self.get_file_name()\n",
        "        self.module_name = self.file_name[:-3]\n",
        "\n",
        "        import importlib.util as util\n",
        "        self.module = self.get_module_from_file_path(self.module_name, self.file_path, util)\n",
        "\n",
        "        self.revision_id = self.get_revision_id()\n",
        "        self.down_revision = self.get_down_revision()\n",
        "        self.next = None        \n",
        "\n",
        "\n",
        "    def get_file_name(self):\n",
        "        file_name = self.file_path[self.file_path.rfind(\"\\\\\") + 1:]\n",
        "        return file_name\n",
        "\n",
        "    def get_revision_id(self):\n",
        "        try:\n",
        "            return self.module.revision\n",
        "        except AttributeError:\n",
        "            return \"Not a revision file\"\n",
        "\n",
        "    def get_down_revision(self):\n",
        "        try:\n",
        "            return self.module.down_revision\n",
        "        except AttributeError:\n",
        "            return \"Not a revision file\"\n",
        "\n",
        "    def is_head(self):\n",
        "        return self.down_revision == None\n",
        "    \n",
        "    def __str__(self) -> str:\n",
        "        return f'{self.revision_id}({self.file_name})'\n",
        "\n",
        "\n",
        "    def get_module_from_file_path(self, module_name, file_path, util):\n",
        "        try:\n",
        "            spec = util.spec_from_file_location(module_name, file_path)\n",
        "            module = util.module_from_spec(spec)\n",
        "            spec.loader.exec_module(module)\n",
        "            return module\n",
        "        except:\n",
        "            return\n",
        "\n",
        "\n",
        "class LinkedFiles:\n",
        "    def __init__(self, root_dir) -> None:\n",
        "        self.root_dir = root_dir\n",
        "        self.fileNodes = self.get_file_nodes()\n",
        "        self.heads = self.get_heads()\n",
        "\n",
        "    def get_file_nodes(self):\n",
        "        from os import walk\n",
        "        from os.path import join\n",
        "\n",
        "        dir_path = self.root_dir\n",
        "        file_paths = []\n",
        "        for (dir_path, dir_names, file_names) in walk(dir_path):\n",
        "            paths = [join(dir_path, file_name) for file_name in file_names if file_name[-2:] == 'py']\n",
        "            file_paths.extend(paths)\n",
        "\n",
        "        file_nodes = {\n",
        "            FileNode(file_path).revision_id\n",
        "            :\n",
        "            FileNode(file_path)\n",
        "            for file_path in file_paths\n",
        "        }\n",
        "        \n",
        "        return file_nodes\n",
        "    \n",
        "    def get_heads(self):\n",
        "        return [fileNode for fileNode in self.fileNodes.values() if fileNode.is_head()]\n",
        "\n",
        "    def link_files(self):\n",
        "        for file in self.fileNodes.values():\n",
        "            try:\n",
        "                self.fileNodes[file.down_revision].next = file\n",
        "            except KeyError:\n",
        "                pass\n",
        "        return\n",
        "\n",
        "    def __str__(self) -> str:\n",
        "\n",
        "        links = \"\"\n",
        "\n",
        "        for head in self.heads:\n",
        "            link = str(head)\n",
        "            while head.next != None:\n",
        "                head = head.next\n",
        "                link = link + ' -> ' + str(head)\n",
        "            links = links + link + '\\n'\n",
        "\n",
        "        return links\n",
        "\n",
        "\n",
        "\n"
      ]
    },
    {
      "cell_type": "code",
      "execution_count": 281,
      "metadata": {},
      "outputs": [
        {
          "name": "stdout",
          "output_type": "stream",
          "text": [
            "None\n"
          ]
        }
      ],
      "source": [
        "root_dir = r\"C:\\Users\\HP\\Desktop\\xED\\Data\\Projects\\applications\\tribes.ai\"\n",
        "print(LinkedFiles(root_dir).link_files())"
      ]
    },
    {
      "cell_type": "code",
      "execution_count": 262,
      "metadata": {},
      "outputs": [
        {
          "name": "stdout",
          "output_type": "stream",
          "text": [
            "6dd757e58240(6dd757e58240_user_group_migrations_addition_include.py)\n"
          ]
        }
      ],
      "source": [
        "file_name = r\"C:\\Users\\HP\\Desktop\\xED\\Data\\Projects\\applications\\tribes.ai\\migration_data_test\\migration_data_test\\6dd757e58240_user_group_migrations_addition_include.py\"\n",
        "\n",
        "file_1 = FileNode(file_name)\n",
        "file_1.down_revision\n",
        "file_1.is_head()\n",
        "print(file_1)"
      ]
    },
    {
      "cell_type": "code",
      "execution_count": 279,
      "metadata": {},
      "outputs": [
        {
          "name": "stdout",
          "output_type": "stream",
          "text": [
            "1de5a8c20056(1de5a8c20056_initial_migration_include.py) -> 6dd757e58240(6dd757e58240_user_group_migrations_addition_include.py) -> 6bbb0ed8668e(6bbb0ed8668e_add_unique_id_in_integrations_include.py) -> 529d6f7221aa(529d6f7221aa_integrations_column_changes_include.py) -> c28d9110572d(c28d9110572d_integrations_unique_identifier_name_include.py) -> bffbe44bfbc2(bffbe44bfbc2_client_configuration_col_include.py) -> fa137ca2e4f4(fa137ca2e4f4_column_remane_to_name_include.py) -> c5bd1ade54d7(c5bd1ade54d7_rename_vendor_configuration_include.py)\n",
            "\n"
          ]
        }
      ],
      "source": [
        "# folder path\n",
        "dir_path = r\"C:\\Users\\HP\\Desktop\\xED\\Data\\Projects\\applications\\tribes.ai\"\n",
        "\n",
        "ex = LinkedFiles(dir_path)\n",
        "ex.fileNodes\n",
        "ex.link_files()\n",
        "str(ex.fileNodes['fa137ca2e4f4'].next)\n",
        "ex.heads\n",
        "print(ex)\n"
      ]
    },
    {
      "cell_type": "code",
      "execution_count": 10,
      "metadata": {},
      "outputs": [
        {
          "data": {
            "text/plain": [
              "['C:\\\\Users\\\\HP\\\\Desktop\\\\xED\\\\Data\\\\Projects\\\\applications\\\\tribes.ai\\\\migration_data_test\\\\migration_data_test\\\\1de5a8c20056_initial_migration_include.py',\n",
              " 'C:\\\\Users\\\\HP\\\\Desktop\\\\xED\\\\Data\\\\Projects\\\\applications\\\\tribes.ai\\\\migration_data_test\\\\migration_data_test\\\\529d6f7221aa_integrations_column_changes_include.py',\n",
              " 'C:\\\\Users\\\\HP\\\\Desktop\\\\xED\\\\Data\\\\Projects\\\\applications\\\\tribes.ai\\\\migration_data_test\\\\migration_data_test\\\\6bbb0ed8668e_add_unique_id_in_integrations_include.py',\n",
              " 'C:\\\\Users\\\\HP\\\\Desktop\\\\xED\\\\Data\\\\Projects\\\\applications\\\\tribes.ai\\\\migration_data_test\\\\migration_data_test\\\\6dd757e58240_user_group_migrations_addition_include.py',\n",
              " 'C:\\\\Users\\\\HP\\\\Desktop\\\\xED\\\\Data\\\\Projects\\\\applications\\\\tribes.ai\\\\migration_data_test\\\\migration_data_test\\\\bffbe44bfbc2_client_configuration_col_include.py',\n",
              " 'C:\\\\Users\\\\HP\\\\Desktop\\\\xED\\\\Data\\\\Projects\\\\applications\\\\tribes.ai\\\\migration_data_test\\\\migration_data_test\\\\c28d9110572d_integrations_unique_identifier_name_include.py',\n",
              " 'C:\\\\Users\\\\HP\\\\Desktop\\\\xED\\\\Data\\\\Projects\\\\applications\\\\tribes.ai\\\\migration_data_test\\\\migration_data_test\\\\c5bd1ade54d7_rename_vendor_configuration_include.py',\n",
              " 'C:\\\\Users\\\\HP\\\\Desktop\\\\xED\\\\Data\\\\Projects\\\\applications\\\\tribes.ai\\\\migration_data_test\\\\migration_data_test\\\\fa137ca2e4f4_column_remane_to_name_include.py']"
            ]
          },
          "execution_count": 10,
          "metadata": {},
          "output_type": "execute_result"
        }
      ],
      "source": [
        "import os\n",
        "root_dir = r\"C:\\Users\\HP\\Desktop\\xED\\Data\\Projects\\applications\\tribes.ai\\migration_data_test\\migration_data_test\"\n",
        "\n",
        "[item.path for item in os.scandir(root_dir) if os.path.isfile(item.path)]\n"
      ]
    },
    {
      "cell_type": "code",
      "execution_count": 28,
      "metadata": {},
      "outputs": [
        {
          "ename": "ModuleNotFoundError",
          "evalue": "No module named 'am'",
          "output_type": "error",
          "traceback": [
            "\u001b[1;31m---------------------------------------------------------------------------\u001b[0m",
            "\u001b[1;31mModuleNotFoundError\u001b[0m                       Traceback (most recent call last)",
            "\u001b[1;32mc:\\Users\\HP\\Desktop\\xED\\Data\\Projects\\applications\\tribes.ai\\alembic-parser\\parser.ipynb Cell 6\u001b[0m in \u001b[0;36m<cell line: 2>\u001b[1;34m()\u001b[0m\n\u001b[0;32m      <a href='vscode-notebook-cell:/c%3A/Users/HP/Desktop/xED/Data/Projects/applications/tribes.ai/alembic-parser/parser.ipynb#ch0000005?line=3'>4</a>\u001b[0m \u001b[39mexcept\u001b[39;00m \u001b[39mModuleNotFoundError\u001b[39;00m \u001b[39mas\u001b[39;00m m:\n\u001b[0;32m      <a href='vscode-notebook-cell:/c%3A/Users/HP/Desktop/xED/Data/Projects/applications/tribes.ai/alembic-parser/parser.ipynb#ch0000005?line=4'>5</a>\u001b[0m     sys\u001b[39m.\u001b[39mtracebacklimit \u001b[39m=\u001b[39m \u001b[39mNone\u001b[39;00m\n\u001b[1;32m----> <a href='vscode-notebook-cell:/c%3A/Users/HP/Desktop/xED/Data/Projects/applications/tribes.ai/alembic-parser/parser.ipynb#ch0000005?line=5'>6</a>\u001b[0m     \u001b[39mraise\u001b[39;00m m\n\u001b[0;32m      <a href='vscode-notebook-cell:/c%3A/Users/HP/Desktop/xED/Data/Projects/applications/tribes.ai/alembic-parser/parser.ipynb#ch0000005?line=6'>7</a>\u001b[0m     \u001b[39mprint\u001b[39m(m)\n",
            "\u001b[1;32mc:\\Users\\HP\\Desktop\\xED\\Data\\Projects\\applications\\tribes.ai\\alembic-parser\\parser.ipynb Cell 6\u001b[0m in \u001b[0;36m<cell line: 2>\u001b[1;34m()\u001b[0m\n\u001b[0;32m      <a href='vscode-notebook-cell:/c%3A/Users/HP/Desktop/xED/Data/Projects/applications/tribes.ai/alembic-parser/parser.ipynb#ch0000005?line=0'>1</a>\u001b[0m \u001b[39mimport\u001b[39;00m \u001b[39msys\u001b[39;00m\n\u001b[0;32m      <a href='vscode-notebook-cell:/c%3A/Users/HP/Desktop/xED/Data/Projects/applications/tribes.ai/alembic-parser/parser.ipynb#ch0000005?line=1'>2</a>\u001b[0m \u001b[39mtry\u001b[39;00m:\n\u001b[1;32m----> <a href='vscode-notebook-cell:/c%3A/Users/HP/Desktop/xED/Data/Projects/applications/tribes.ai/alembic-parser/parser.ipynb#ch0000005?line=2'>3</a>\u001b[0m     \u001b[39mimport\u001b[39;00m \u001b[39mam\u001b[39;00m\n\u001b[0;32m      <a href='vscode-notebook-cell:/c%3A/Users/HP/Desktop/xED/Data/Projects/applications/tribes.ai/alembic-parser/parser.ipynb#ch0000005?line=3'>4</a>\u001b[0m \u001b[39mexcept\u001b[39;00m \u001b[39mModuleNotFoundError\u001b[39;00m \u001b[39mas\u001b[39;00m m:\n\u001b[0;32m      <a href='vscode-notebook-cell:/c%3A/Users/HP/Desktop/xED/Data/Projects/applications/tribes.ai/alembic-parser/parser.ipynb#ch0000005?line=4'>5</a>\u001b[0m     sys\u001b[39m.\u001b[39mtracebacklimit \u001b[39m=\u001b[39m \u001b[39mNone\u001b[39;00m\n",
            "\u001b[1;31mModuleNotFoundError\u001b[0m: No module named 'am'"
          ]
        }
      ],
      "source": [
        "import sys\n",
        "try:\n",
        "    import am\n",
        "except ModuleNotFoundError as m:\n",
        "    sys.tracebacklimit = 0\n",
        "    raise m\n",
        "    print(m)"
      ]
    },
    {
      "cell_type": "code",
      "execution_count": 29,
      "metadata": {},
      "outputs": [],
      "source": [
        "heads = []"
      ]
    },
    {
      "cell_type": "code",
      "execution_count": 30,
      "metadata": {},
      "outputs": [
        {
          "ename": "IndexError",
          "evalue": "list index out of range",
          "output_type": "error",
          "traceback": [
            "\u001b[1;31m---------------------------------------------------------------------------\u001b[0m",
            "\u001b[1;31mIndexError\u001b[0m                                Traceback (most recent call last)",
            "\u001b[1;32mc:\\Users\\HP\\Desktop\\xED\\Data\\Projects\\applications\\tribes.ai\\alembic-parser\\parser.ipynb Cell 8\u001b[0m in \u001b[0;36m<cell line: 1>\u001b[1;34m()\u001b[0m\n\u001b[1;32m----> <a href='vscode-notebook-cell:/c%3A/Users/HP/Desktop/xED/Data/Projects/applications/tribes.ai/alembic-parser/parser.ipynb#ch0000009?line=0'>1</a>\u001b[0m heads[\u001b[39m0\u001b[39;49m]\n",
            "\u001b[1;31mIndexError\u001b[0m: list index out of range"
          ]
        }
      ],
      "source": [
        "heads[0]"
      ]
    },
    {
      "cell_type": "code",
      "execution_count": 31,
      "metadata": {},
      "outputs": [
        {
          "name": "stdout",
          "output_type": "stream",
          "text": [
            "okay\n"
          ]
        }
      ],
      "source": [
        "try:\n",
        "    raise Exception(\"okay\")\n",
        "except:\n",
        "    error_message = str(sys.exc_info()[1])\n",
        "    print(error_message)"
      ]
    },
    {
      "cell_type": "code",
      "execution_count": null,
      "metadata": {},
      "outputs": [],
      "source": []
    }
  ],
  "metadata": {
    "colab": {
      "authorship_tag": "ABX9TyNhbQTJUh1hGd21NnaMi2LX",
      "name": "parser.ipynb",
      "provenance": []
    },
    "kernelspec": {
      "display_name": "Python 3.10.4 64-bit",
      "language": "python",
      "name": "python3"
    },
    "language_info": {
      "codemirror_mode": {
        "name": "ipython",
        "version": 3
      },
      "file_extension": ".py",
      "mimetype": "text/x-python",
      "name": "python",
      "nbconvert_exporter": "python",
      "pygments_lexer": "ipython3",
      "version": "3.10.5"
    },
    "vscode": {
      "interpreter": {
        "hash": "a9cff5a362bc38ef45d817ae74b1af54d6a076e3d773891282bce078b815ba34"
      }
    }
  },
  "nbformat": 4,
  "nbformat_minor": 0
}
